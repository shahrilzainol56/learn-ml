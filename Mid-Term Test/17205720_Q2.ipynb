{
 "cells": [
  {
   "cell_type": "markdown",
   "metadata": {},
   "source": [
    "# Machine Learning Test: Question 2"
   ]
  },
  {
   "cell_type": "markdown",
   "metadata": {},
   "source": [
    "## 1. Load dataset"
   ]
  },
  {
   "cell_type": "code",
   "execution_count": 1,
   "metadata": {},
   "outputs": [
    {
     "data": {
      "text/html": [
       "<div>\n",
       "<style scoped>\n",
       "    .dataframe tbody tr th:only-of-type {\n",
       "        vertical-align: middle;\n",
       "    }\n",
       "\n",
       "    .dataframe tbody tr th {\n",
       "        vertical-align: top;\n",
       "    }\n",
       "\n",
       "    .dataframe thead th {\n",
       "        text-align: right;\n",
       "    }\n",
       "</style>\n",
       "<table border=\"1\" class=\"dataframe\">\n",
       "  <thead>\n",
       "    <tr style=\"text-align: right;\">\n",
       "      <th></th>\n",
       "      <th>Feature_1</th>\n",
       "      <th>Feature_2</th>\n",
       "      <th>Feature_3</th>\n",
       "      <th>Feature_4</th>\n",
       "      <th>Feature_5</th>\n",
       "      <th>Feature_6</th>\n",
       "      <th>Feature_7</th>\n",
       "      <th>Feature_8</th>\n",
       "      <th>Feature_9</th>\n",
       "      <th>Feature_10</th>\n",
       "      <th>...</th>\n",
       "      <th>Feature_42</th>\n",
       "      <th>Feature_43</th>\n",
       "      <th>Feature_44</th>\n",
       "      <th>Feature_45</th>\n",
       "      <th>Feature_46</th>\n",
       "      <th>Feature_47</th>\n",
       "      <th>Feature_48</th>\n",
       "      <th>Feature_49</th>\n",
       "      <th>Feature_50</th>\n",
       "      <th>Target</th>\n",
       "    </tr>\n",
       "  </thead>\n",
       "  <tbody>\n",
       "    <tr>\n",
       "      <th>0</th>\n",
       "      <td>0.222105</td>\n",
       "      <td>0.199895</td>\n",
       "      <td>-0.166056</td>\n",
       "      <td>-0.149451</td>\n",
       "      <td>0.753769</td>\n",
       "      <td>0.678392</td>\n",
       "      <td>-0.701898</td>\n",
       "      <td>-0.631708</td>\n",
       "      <td>-2.081954</td>\n",
       "      <td>-1.873759</td>\n",
       "      <td>...</td>\n",
       "      <td>-0.707835</td>\n",
       "      <td>0.699871</td>\n",
       "      <td>0.629884</td>\n",
       "      <td>-0.112832</td>\n",
       "      <td>-0.101549</td>\n",
       "      <td>0.105162</td>\n",
       "      <td>0.094646</td>\n",
       "      <td>-0.057244</td>\n",
       "      <td>-0.300341</td>\n",
       "      <td>131.033839</td>\n",
       "    </tr>\n",
       "    <tr>\n",
       "      <th>1</th>\n",
       "      <td>0.830571</td>\n",
       "      <td>0.747514</td>\n",
       "      <td>-0.155013</td>\n",
       "      <td>-0.139512</td>\n",
       "      <td>-0.825304</td>\n",
       "      <td>-0.742773</td>\n",
       "      <td>-0.068017</td>\n",
       "      <td>-0.061216</td>\n",
       "      <td>-0.050230</td>\n",
       "      <td>-0.045207</td>\n",
       "      <td>...</td>\n",
       "      <td>2.006139</td>\n",
       "      <td>-1.141367</td>\n",
       "      <td>-1.027230</td>\n",
       "      <td>-0.514554</td>\n",
       "      <td>-0.463098</td>\n",
       "      <td>0.740684</td>\n",
       "      <td>0.666616</td>\n",
       "      <td>-0.720188</td>\n",
       "      <td>-0.399939</td>\n",
       "      <td>2.080009</td>\n",
       "    </tr>\n",
       "    <tr>\n",
       "      <th>2</th>\n",
       "      <td>-0.963353</td>\n",
       "      <td>-0.867018</td>\n",
       "      <td>-1.113140</td>\n",
       "      <td>-1.001826</td>\n",
       "      <td>0.552067</td>\n",
       "      <td>0.496860</td>\n",
       "      <td>-0.856090</td>\n",
       "      <td>-0.770481</td>\n",
       "      <td>0.386812</td>\n",
       "      <td>0.348131</td>\n",
       "      <td>...</td>\n",
       "      <td>0.573222</td>\n",
       "      <td>-0.466127</td>\n",
       "      <td>-0.419514</td>\n",
       "      <td>-0.821580</td>\n",
       "      <td>-0.739422</td>\n",
       "      <td>-1.554154</td>\n",
       "      <td>-1.398739</td>\n",
       "      <td>0.856455</td>\n",
       "      <td>-0.137110</td>\n",
       "      <td>154.275526</td>\n",
       "    </tr>\n",
       "    <tr>\n",
       "      <th>3</th>\n",
       "      <td>2.149843</td>\n",
       "      <td>1.934859</td>\n",
       "      <td>-0.437220</td>\n",
       "      <td>-0.393498</td>\n",
       "      <td>1.178275</td>\n",
       "      <td>1.060447</td>\n",
       "      <td>0.626042</td>\n",
       "      <td>0.563437</td>\n",
       "      <td>-0.596114</td>\n",
       "      <td>-0.536502</td>\n",
       "      <td>...</td>\n",
       "      <td>-0.138886</td>\n",
       "      <td>0.319233</td>\n",
       "      <td>0.287310</td>\n",
       "      <td>0.504989</td>\n",
       "      <td>0.454490</td>\n",
       "      <td>-0.584365</td>\n",
       "      <td>-0.525928</td>\n",
       "      <td>-0.756766</td>\n",
       "      <td>-1.260378</td>\n",
       "      <td>-7.755839</td>\n",
       "    </tr>\n",
       "    <tr>\n",
       "      <th>4</th>\n",
       "      <td>-0.537291</td>\n",
       "      <td>-0.483562</td>\n",
       "      <td>-0.491454</td>\n",
       "      <td>-0.442308</td>\n",
       "      <td>-0.987731</td>\n",
       "      <td>-0.888958</td>\n",
       "      <td>0.315882</td>\n",
       "      <td>0.284294</td>\n",
       "      <td>-0.791415</td>\n",
       "      <td>-0.712274</td>\n",
       "      <td>...</td>\n",
       "      <td>-1.644922</td>\n",
       "      <td>-1.414067</td>\n",
       "      <td>-1.272660</td>\n",
       "      <td>1.412016</td>\n",
       "      <td>1.270814</td>\n",
       "      <td>1.349360</td>\n",
       "      <td>1.214424</td>\n",
       "      <td>-0.915610</td>\n",
       "      <td>0.183969</td>\n",
       "      <td>-80.671954</td>\n",
       "    </tr>\n",
       "  </tbody>\n",
       "</table>\n",
       "<p>5 rows × 51 columns</p>\n",
       "</div>"
      ],
      "text/plain": [
       "   Feature_1  Feature_2  Feature_3  Feature_4  Feature_5  Feature_6  \\\n",
       "0   0.222105   0.199895  -0.166056  -0.149451   0.753769   0.678392   \n",
       "1   0.830571   0.747514  -0.155013  -0.139512  -0.825304  -0.742773   \n",
       "2  -0.963353  -0.867018  -1.113140  -1.001826   0.552067   0.496860   \n",
       "3   2.149843   1.934859  -0.437220  -0.393498   1.178275   1.060447   \n",
       "4  -0.537291  -0.483562  -0.491454  -0.442308  -0.987731  -0.888958   \n",
       "\n",
       "   Feature_7  Feature_8  Feature_9  Feature_10  ...  Feature_42  Feature_43  \\\n",
       "0  -0.701898  -0.631708  -2.081954   -1.873759  ...   -0.707835    0.699871   \n",
       "1  -0.068017  -0.061216  -0.050230   -0.045207  ...    2.006139   -1.141367   \n",
       "2  -0.856090  -0.770481   0.386812    0.348131  ...    0.573222   -0.466127   \n",
       "3   0.626042   0.563437  -0.596114   -0.536502  ...   -0.138886    0.319233   \n",
       "4   0.315882   0.284294  -0.791415   -0.712274  ...   -1.644922   -1.414067   \n",
       "\n",
       "   Feature_44  Feature_45  Feature_46  Feature_47  Feature_48  Feature_49  \\\n",
       "0    0.629884   -0.112832   -0.101549    0.105162    0.094646   -0.057244   \n",
       "1   -1.027230   -0.514554   -0.463098    0.740684    0.666616   -0.720188   \n",
       "2   -0.419514   -0.821580   -0.739422   -1.554154   -1.398739    0.856455   \n",
       "3    0.287310    0.504989    0.454490   -0.584365   -0.525928   -0.756766   \n",
       "4   -1.272660    1.412016    1.270814    1.349360    1.214424   -0.915610   \n",
       "\n",
       "   Feature_50      Target  \n",
       "0   -0.300341  131.033839  \n",
       "1   -0.399939    2.080009  \n",
       "2   -0.137110  154.275526  \n",
       "3   -1.260378   -7.755839  \n",
       "4    0.183969  -80.671954  \n",
       "\n",
       "[5 rows x 51 columns]"
      ]
     },
     "execution_count": 1,
     "metadata": {},
     "output_type": "execute_result"
    }
   ],
   "source": [
    "import pandas as pd\n",
    "import numpy as np\n",
    "import matplotlib.pyplot as plt\n",
    "\n",
    "df = pd.read_csv(\"data_Q2.csv\")\n",
    "df.head()"
   ]
  },
  {
   "cell_type": "markdown",
   "metadata": {},
   "source": [
    "## 2. Data Preprocessing"
   ]
  },
  {
   "cell_type": "markdown",
   "metadata": {},
   "source": [
    "### 2.1 Split features and target"
   ]
  },
  {
   "cell_type": "code",
   "execution_count": 2,
   "metadata": {},
   "outputs": [
    {
     "data": {
      "text/plain": [
       "((1000, 50), (1000,))"
      ]
     },
     "execution_count": 2,
     "metadata": {},
     "output_type": "execute_result"
    }
   ],
   "source": [
    "X = df.drop('Target', axis=1)\n",
    "y = df['Target']\n",
    "X.shape, y.shape"
   ]
  },
  {
   "cell_type": "markdown",
   "metadata": {},
   "source": [
    "### 2.2 Split training and test set"
   ]
  },
  {
   "cell_type": "code",
   "execution_count": 3,
   "metadata": {},
   "outputs": [
    {
     "data": {
      "text/plain": [
       "((800, 50), (200, 50), (800,), (200,))"
      ]
     },
     "execution_count": 3,
     "metadata": {},
     "output_type": "execute_result"
    }
   ],
   "source": [
    "from sklearn.model_selection import train_test_split\n",
    "\n",
    "X_train, X_test, y_train, y_test = train_test_split(X, y, test_size=0.2, random_state=42)\n",
    "X_train.shape, X_test.shape, y_train.shape, y_test.shape"
   ]
  },
  {
   "cell_type": "markdown",
   "metadata": {},
   "source": [
    "### 2.3 Features scaling"
   ]
  },
  {
   "cell_type": "code",
   "execution_count": 4,
   "metadata": {},
   "outputs": [],
   "source": [
    "from sklearn.preprocessing import StandardScaler\n",
    "\n",
    "scaler = StandardScaler()\n",
    "X_train = scaler.fit_transform(X_train)\n",
    "X_test = scaler.transform(X_test)"
   ]
  },
  {
   "cell_type": "markdown",
   "metadata": {},
   "source": [
    "## 3. Normal Model Training and Testing"
   ]
  },
  {
   "cell_type": "markdown",
   "metadata": {},
   "source": [
    "### 3.1 Linear Regression"
   ]
  },
  {
   "cell_type": "code",
   "execution_count": 5,
   "metadata": {},
   "outputs": [
    {
     "name": "stdout",
     "output_type": "stream",
     "text": [
      "24040.366305478885\n",
      "0.0801456586429572\n"
     ]
    }
   ],
   "source": [
    "from sklearn.linear_model import LinearRegression\n",
    "\n",
    "lr = LinearRegression()\n",
    "lr.fit(X_train, y_train)\n",
    "y_pred_lr = lr.predict(X_test)\n",
    "\n",
    "from sklearn.metrics import mean_squared_error, r2_score\n",
    "\n",
    "mse_lr = mean_squared_error(y_test, y_pred_lr)\n",
    "print(mse_lr)\n",
    "r2_lr = r2_score(y_test, y_pred_lr)\n",
    "print(r2_lr)"
   ]
  },
  {
   "cell_type": "markdown",
   "metadata": {},
   "source": [
    "## 4. Regularization"
   ]
  },
  {
   "cell_type": "markdown",
   "metadata": {},
   "source": [
    "### 4.1 Hyperparameters Tuning: Ridge Regression"
   ]
  },
  {
   "cell_type": "code",
   "execution_count": 6,
   "metadata": {},
   "outputs": [
    {
     "data": {
      "text/plain": [
       "{'alpha': 10.0}"
      ]
     },
     "execution_count": 6,
     "metadata": {},
     "output_type": "execute_result"
    }
   ],
   "source": [
    "from sklearn.linear_model import Ridge\n",
    "from sklearn.model_selection import GridSearchCV\n",
    "\n",
    "param_grid_Ridge = [{'alpha': [0.01, 0.1,  1.0, 10.0]}]\n",
    "\n",
    "grid_search_Ridge = GridSearchCV(Ridge(), param_grid_Ridge, cv=5, scoring='neg_mean_squared_error')\n",
    "grid_search_Ridge.fit(X_train, y_train)\n",
    "grid_search_Ridge.best_params_"
   ]
  },
  {
   "cell_type": "markdown",
   "metadata": {},
   "source": [
    "### 4.2 Hyperparameters Tuning: Lasso Regression"
   ]
  },
  {
   "cell_type": "code",
   "execution_count": 7,
   "metadata": {},
   "outputs": [
    {
     "data": {
      "text/plain": [
       "{'alpha': 10.0}"
      ]
     },
     "execution_count": 7,
     "metadata": {},
     "output_type": "execute_result"
    }
   ],
   "source": [
    "from sklearn.linear_model import Lasso\n",
    "\n",
    "param_grid_Lasso = [{'alpha': [0.01, 0.1,  1.0, 10.0]}]\n",
    "\n",
    "grid_search_Lasso = GridSearchCV(Lasso(), param_grid_Lasso, cv=5, scoring='neg_mean_squared_error')\n",
    "grid_search_Lasso.fit(X_train, y_train)\n",
    "grid_search_Lasso.best_params_"
   ]
  },
  {
   "cell_type": "markdown",
   "metadata": {},
   "source": [
    "### 4.3 Hyperparameters Tuning: ElasticNet"
   ]
  },
  {
   "cell_type": "code",
   "execution_count": 8,
   "metadata": {},
   "outputs": [
    {
     "data": {
      "text/plain": [
       "{'alpha': 1.0, 'l1_ratio': 0.9}"
      ]
     },
     "execution_count": 8,
     "metadata": {},
     "output_type": "execute_result"
    }
   ],
   "source": [
    "from sklearn.linear_model import ElasticNet\n",
    "\n",
    "param_grid_EN = [{'alpha': [0.01, 0.1, 1.0, 10.0], 'l1_ratio': [0.1, 0.5, 0.9]}]\n",
    "\n",
    "grid_search_EN = GridSearchCV(ElasticNet(), param_grid_EN, cv=5, scoring='neg_mean_squared_error')\n",
    "grid_search_EN.fit(X_train, y_train)\n",
    "grid_search_EN.best_params_"
   ]
  },
  {
   "cell_type": "markdown",
   "metadata": {},
   "source": [
    "## 5. Regularized Model Training and Testing"
   ]
  },
  {
   "cell_type": "markdown",
   "metadata": {},
   "source": [
    "### 5.1 Ridge Regression"
   ]
  },
  {
   "cell_type": "code",
   "execution_count": 9,
   "metadata": {},
   "outputs": [
    {
     "name": "stdout",
     "output_type": "stream",
     "text": [
      "16875.235645213736\n",
      "0.35430439900845934\n"
     ]
    }
   ],
   "source": [
    "ridge = Ridge(alpha=10)\n",
    "ridge.fit(X_train, y_train)\n",
    "y_pred_ridge = ridge.predict(X_test)\n",
    "\n",
    "from sklearn.metrics import mean_squared_error, r2_score\n",
    "\n",
    "mse_ridge = mean_squared_error(y_test, y_pred_ridge)\n",
    "print(mse_ridge)\n",
    "r2_ridge = r2_score(y_test, y_pred_ridge)\n",
    "print(r2_ridge)"
   ]
  },
  {
   "cell_type": "markdown",
   "metadata": {},
   "source": [
    "### 5.2 Lasso Regression"
   ]
  },
  {
   "cell_type": "code",
   "execution_count": 10,
   "metadata": {},
   "outputs": [
    {
     "name": "stdout",
     "output_type": "stream",
     "text": [
      "16009.803339177077\n",
      "0.3874183563310244\n"
     ]
    }
   ],
   "source": [
    "lasso = Lasso(alpha=10)\n",
    "lasso.fit(X_train, y_train)\n",
    "y_pred_lasso = lasso.predict(X_test)\n",
    "\n",
    "from sklearn.metrics import mean_squared_error, r2_score\n",
    "\n",
    "mse_lasso = mean_squared_error(y_test, y_pred_lasso)\n",
    "print(mse_lasso)\n",
    "r2_lasso = r2_score(y_test, y_pred_lasso)\n",
    "print(r2_lasso)"
   ]
  },
  {
   "cell_type": "markdown",
   "metadata": {},
   "source": [
    "### 5.3 ElasticNet"
   ]
  },
  {
   "cell_type": "code",
   "execution_count": 11,
   "metadata": {},
   "outputs": [
    {
     "name": "stdout",
     "output_type": "stream",
     "text": [
      "16651.543160428955\n",
      "0.3628635241334093\n"
     ]
    }
   ],
   "source": [
    "EN = ElasticNet(alpha = 1.0, l1_ratio = 0.9)\n",
    "EN.fit(X_train, y_train)\n",
    "y_pred_EN = EN.predict(X_test)\n",
    "\n",
    "from sklearn.metrics import mean_squared_error, r2_score\n",
    "\n",
    "mse_EN = mean_squared_error(y_test, y_pred_EN)\n",
    "print(mse_EN)\n",
    "r2_EN = r2_score(y_test, y_pred_EN)\n",
    "print(r2_EN)"
   ]
  },
  {
   "cell_type": "markdown",
   "metadata": {},
   "source": [
    "## 6. Result Analysis"
   ]
  },
  {
   "cell_type": "code",
   "execution_count": 12,
   "metadata": {},
   "outputs": [
    {
     "name": "stdout",
     "output_type": "stream",
     "text": [
      "MSE for Linear Regression: 24040.366305478885\n",
      "MSE for Ridge: 16875.235645213736\n",
      "MSE for Lasso: 16009.803339177077\n",
      "MSE for Elastic Net: 16651.543160428955\n"
     ]
    }
   ],
   "source": [
    "print('MSE for Linear Regression:', mse_lr)\n",
    "print('MSE for Ridge:', mse_ridge)\n",
    "print('MSE for Lasso:', mse_lasso)\n",
    "print('MSE for Elastic Net:', mse_EN)"
   ]
  },
  {
   "cell_type": "markdown",
   "metadata": {},
   "source": [
    "Here we can see that Lasso achieve the best MSE result when tested using the test set, followed by ElasticNet, Ridge, and Linear Regression. This means the predicted value by the Lasso model is closer to the actual value compared to others."
   ]
  },
  {
   "cell_type": "code",
   "execution_count": 13,
   "metadata": {},
   "outputs": [
    {
     "name": "stdout",
     "output_type": "stream",
     "text": [
      "R2 for Linear Regression: 0.0801456586429572\n",
      "R2 for Ridge: 0.35430439900845934\n",
      "R2 for Lasso: 0.3874183563310244\n",
      "R2 for Elastic Net: 0.3628635241334093\n"
     ]
    }
   ],
   "source": [
    "print('R2 for Linear Regression:', r2_lr)\n",
    "print('R2 for Ridge:', r2_ridge)\n",
    "print('R2 for Lasso:', r2_lasso)\n",
    "print('R2 for Elastic Net:', r2_EN)"
   ]
  },
  {
   "cell_type": "markdown",
   "metadata": {},
   "source": [
    "Here we can see same results for R2. Lasso can fits the data well, explaining a larger portion of variability."
   ]
  }
 ],
 "metadata": {
  "kernelspec": {
   "display_name": "Python 3",
   "language": "python",
   "name": "python3"
  },
  "language_info": {
   "codemirror_mode": {
    "name": "ipython",
    "version": 3
   },
   "file_extension": ".py",
   "mimetype": "text/x-python",
   "name": "python",
   "nbconvert_exporter": "python",
   "pygments_lexer": "ipython3",
   "version": "3.11.3"
  }
 },
 "nbformat": 4,
 "nbformat_minor": 2
}
